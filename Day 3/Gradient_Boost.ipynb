{
  "nbformat": 4,
  "nbformat_minor": 0,
  "metadata": {
    "kernelspec": {
      "language": "python",
      "display_name": "Python 3",
      "name": "python3"
    },
    "language_info": {
      "pygments_lexer": "ipython3",
      "nbconvert_exporter": "python",
      "version": "3.6.4",
      "file_extension": ".py",
      "codemirror_mode": {
        "name": "ipython",
        "version": 3
      },
      "name": "python",
      "mimetype": "text/x-python"
    },
    "colab": {
      "name": "Gradient_Boost.ipynb",
      "provenance": []
    }
  },
  "cells": [
    {
      "cell_type": "markdown",
      "metadata": {
        "id": "Gf6qm0d8hVfP",
        "colab_type": "text"
      },
      "source": [
        "### Gradient Boosting with CatBoost - Day 3"
      ]
    },
    {
      "cell_type": "code",
      "metadata": {
        "trusted": true,
        "id": "l6gsAFxThCVb",
        "colab_type": "code",
        "colab": {}
      },
      "source": [
        "import matplotlib.pyplot as plt\n",
        "import sklearn\n",
        "import seaborn as sns\n",
        "from sklearn.ensemble import RandomForestClassifier\n",
        "from sklearn.metrics import classification_report, confusion_matrix, f1_score    \n",
        "from sklearn.model_selection import train_test_split,cross_val_score\n",
        "from sklearn.preprocessing import LabelEncoder, StandardScaler\n",
        "from xgboost import XGBClassifier\n",
        "import itertools\n",
        "from numpy import median\n"
      ],
      "execution_count": 0,
      "outputs": []
    },
    {
      "cell_type": "code",
      "metadata": {
        "_uuid": "8f2839f25d086af736a60e9eeb907d3b93b6e0e5",
        "_cell_guid": "b1076dfc-b9ad-4769-8c92-a6c4dae69d19",
        "trusted": true,
        "id": "px_AOx6QhCVw",
        "colab_type": "code",
        "colab": {},
        "outputId": "8223b3a1-c73d-4d7c-dbf4-78da3f818963"
      },
      "source": [
        "import numpy as np \n",
        "import pandas as pd\n",
        "\n",
        "import os\n",
        "for dirname, _, filenames in os.walk('/kaggle/input'):\n",
        "    for filename in filenames:\n",
        "        print(os.path.join(dirname, filename))"
      ],
      "execution_count": 0,
      "outputs": [
        {
          "output_type": "stream",
          "text": [
            "/kaggle/input/data-storm-10/credit_card_default_train.csv\n",
            "/kaggle/input/data-storm-10/DATA STORM 1.0 - First Round Competition Guidlines.pdf\n",
            "/kaggle/input/data-storm-10/credit_card_default_test.csv\n",
            "/kaggle/input/data-storm-10/Credit_card_default - Business Problem - Assessment Criteria - Data Dictionary.xlsx\n"
          ],
          "name": "stdout"
        }
      ]
    },
    {
      "cell_type": "markdown",
      "metadata": {
        "_uuid": "d629ff2d2480ee46fbb7e2d37f6b5fab8052498a",
        "_cell_guid": "79c7e3d0-c299-4dcb-8224-4455121ee9b0",
        "trusted": true,
        "id": "zesajAhFhCWF",
        "colab_type": "text"
      },
      "source": [
        "credit_card_default_train=pd.read_csv('/kaggle/input/data-storm-10/credit_card_default_train.csv')\n",
        "credit_card_default_test=pd.read_csv('/kaggle/input/data-storm-10/credit_card_default_test.csv')"
      ]
    },
    {
      "cell_type": "markdown",
      "metadata": {
        "id": "eAFtZsSdhCWK",
        "colab_type": "text"
      },
      "source": [
        "#### Loading data and initialization"
      ]
    },
    {
      "cell_type": "code",
      "metadata": {
        "trusted": true,
        "id": "T3Ct-4jWhCWO",
        "colab_type": "code",
        "colab": {}
      },
      "source": [
        "credit_card_default_train=pd.read_csv('/kaggle/input/data-storm-10/credit_card_default_train.csv')\n",
        "credit_card_default_test=pd.read_csv('/kaggle/input/data-storm-10/credit_card_default_test.csv')"
      ],
      "execution_count": 0,
      "outputs": []
    },
    {
      "cell_type": "code",
      "metadata": {
        "trusted": true,
        "id": "0_hyqquphCWa",
        "colab_type": "code",
        "colab": {}
      },
      "source": [
        "target_names = ['0','1']\n",
        "\n",
        "def print_report(X_train, X_val, y_train, y_val, model):\n",
        "    print('Train Report')\n",
        "    y_pred_train = model.predict(X_train)\n",
        "    print(classification_report(y_train, y_pred_train, target_names = target_names))\n",
        "\n",
        "    print('Validation Report')\n",
        "    y_pred_val = model.predict(X_val)\n",
        "    print(classification_report(y_val, y_pred_val, target_names = target_names))\n",
        "    \n",
        "    print('Training f1-score(weighted): %f' % f1_score(y_train, y_pred_train, average = 'weighted'))\n",
        "    print('Validation f1-score(weighted): %f' % f1_score(y_val, y_pred_val, average = 'weighted'))"
      ],
      "execution_count": 0,
      "outputs": []
    },
    {
      "cell_type": "code",
      "metadata": {
        "trusted": true,
        "id": "b3YaeHK2hCWm",
        "colab_type": "code",
        "colab": {}
      },
      "source": [
        "_id = 'Client_ID'\n",
        "target = 'NEXT_MONTH_DEFAULT'\n",
        "\n",
        "X = credit_card_default_train.drop(target, axis =1)\n",
        "y = credit_card_default_train.loc[:, target]\n",
        "\n",
        "# Save Client_IDs of the tests in order to append at the end\n",
        "test_client_ids =  credit_card_default_test[_id]\n",
        "\n",
        "X.drop(_id, axis = 1, inplace = True)\n",
        "credit_card_default_test.drop(_id, axis = 1, inplace = True)\n",
        "\n",
        "X_train, X_val, y_train, y_val = train_test_split(X, y, test_size=0.25, random_state=42)\n",
        "\n",
        "X_train_copy= X_train.copy()\n",
        "X_val_copy = X_val.copy()"
      ],
      "execution_count": 0,
      "outputs": []
    },
    {
      "cell_type": "code",
      "metadata": {
        "trusted": true,
        "id": "_slEt-xIhCWx",
        "colab_type": "code",
        "colab": {}
      },
      "source": [
        "unused_cols = ['Balance_Limit_V1', 'EDUCATION_STATUS', 'MARITAL_STATUS', 'AGE']\n",
        "pay_cols = ['PAY_JULY','PAY_AUG','PAY_SEP','PAY_OCT','PAY_NOV','PAY_DEC']\n",
        "paid_cols = ['PAID_AMT_JULY', 'PAID_AMT_AUG', 'PAID_AMT_SEP', 'PAID_AMT_OCT', 'PAID_AMT_NOV', 'PAID_AMT_DEC']\n",
        "due_cols = ['DUE_AMT_JULY', 'DUE_AMT_AUG', 'DUE_AMT_SEP', 'DUE_AMT_OCT', 'DUE_AMT_NOV', 'DUE_AMT_DEC']\n",
        "categorical_cols = ['EDU_ENC', 'MARITAL_ENC', 'AGE_ENC', 'Gender']"
      ],
      "execution_count": 0,
      "outputs": []
    },
    {
      "cell_type": "markdown",
      "metadata": {
        "id": "_pPYJPnVhCW6",
        "colab_type": "text"
      },
      "source": [
        "#### Setting up encoders"
      ]
    },
    {
      "cell_type": "code",
      "metadata": {
        "trusted": true,
        "id": "Iz1q_gmihCW9",
        "colab_type": "code",
        "colab": {}
      },
      "source": [
        "def balance_limit_encoder(value):\n",
        "    last = value[-1]\n",
        "    value = value[:-1]\n",
        "    int_val = 0\n",
        "    if last == 'K':\n",
        "        int_val = float(value) * 1e3\n",
        "    elif last == 'M':\n",
        "        int_val = float(value) * 1e6\n",
        "    return int_val/1e6\n",
        "    \n",
        "marital_status_encoder = LabelEncoder()\n",
        "edu_status_encoder = LabelEncoder()\n",
        "age_encoder = LabelEncoder()\n",
        "\n",
        "def balance_limit_to_num(dataset):\n",
        "    return dataset.assign(Balance_Limit_Enc = dataset['Balance_Limit_V1'].map(balance_limit_encoder))\n",
        "\n",
        "def func_age_encode(data):\n",
        "  if(data == '31-45'):\n",
        "    return (31+45)/2\n",
        "  elif data == 'Less than 30':\n",
        "    return 15\n",
        "  elif data == '46-65':\n",
        "    return (65-46)/2\n",
        "  elif data == 'More than 65':\n",
        "    return 65\n",
        "  else:\n",
        "    return 0\n",
        "\n",
        "# Fit Encoders\n",
        "def fit_encoders(fit_data):\n",
        "    marital_status_encoder.fit(fit_data['MARITAL_STATUS'])\n",
        "    edu_status_encoder.fit(fit_data['EDUCATION_STATUS'])\n",
        "    age_encoder.fit(fit_data['AGE'])\n"
      ],
      "execution_count": 0,
      "outputs": []
    },
    {
      "cell_type": "code",
      "metadata": {
        "trusted": true,
        "id": "DAxcS24VhCXJ",
        "colab_type": "code",
        "colab": {}
      },
      "source": [
        "scaler = StandardScaler()"
      ],
      "execution_count": 0,
      "outputs": []
    },
    {
      "cell_type": "markdown",
      "metadata": {
        "id": "k8Ong4b4hCXU",
        "colab_type": "text"
      },
      "source": [
        "#### Feature Generation Functions"
      ]
    },
    {
      "cell_type": "code",
      "metadata": {
        "trusted": true,
        "id": "CcLSBGl_hCXW",
        "colab_type": "code",
        "colab": {}
      },
      "source": [
        "def generate_pay_value_frequency_features(dataset):\n",
        "    '''Generates a column for each of the possible values for PAY_* columns with the frequency of\n",
        "    each value in  a row'''\n",
        "\n",
        "    cols = {'PAY_'+str(i) : [] for i in range(-2,10)}\n",
        "\n",
        "    for index, row in dataset.iterrows():\n",
        "        counts = {i : 0 for i in range(-2,10)}\n",
        "      \n",
        "        for i in pay_cols:\n",
        "            item = int(row[i])\n",
        "            counts[item] = counts.get(item, 0) + 1\n",
        "        for key, value in counts.items():\n",
        "            cols['PAY_'+str(key)].append(value)\n",
        "    return pd.DataFrame(cols, index = dataset.index)\n",
        "\n",
        "def generate_pay_due_diff_features(dataset):\n",
        "    '''For each month in a row generate a column with the difference of the due and\n",
        "    paid amount'''\n",
        "    \n",
        "    for col in paid_cols:\n",
        "        dataset[col[9:]] = dataset[col] - dataset['DUE_AMT' + col[8:]]\n",
        "\n",
        "def generate_last_to_other_months_avg_ratio_feature(dataset):\n",
        "    '''For each row divide DUE_AMT_DEC by the mean of the DUE_AMOUNT_* of other months'''\n",
        "    dataset['ltomar'] = dataset['DUE_AMT_DEC'] / dataset[list(set(due_cols)-set(['DUE_AMT_DEC']))].mean(axis =1)\n",
        "    dataset['ltomar'].replace([np.inf], 1e10, inplace=True)\n",
        "    dataset['ltomar'].replace([np.nan], -2e10, inplace=True)\n",
        "    dataset['ltomar'].replace([ -np.inf], -1e10, inplace=True)\n",
        "\n",
        "def generate_last_to_other_months_ratio_featute(dataset):\n",
        "    '''For each row divide DUE_AMT_DEC by the values of the DUE_AMOUNT_* columns of other months'''\n",
        "    for i in range(len(due_cols)-2,-1, -1):\n",
        "      dataset['due-'+str(i)] = dataset['DUE_AMT_DEC'] / dataset[due_cols[i]]\n",
        "      dataset['due-'+str(i)].replace([np.inf], 1e10, inplace=True)\n",
        "      dataset['due-'+str(i)].replace([np.nan], -2e10, inplace=True)\n",
        "      dataset['due-'+str(i)].replace([ -np.inf], -1e1, inplace=True)\n",
        "        \n",
        "interaction_encoders =[]\n",
        "\n",
        "# Code modified from kaggle course 'Feature Generation'\n",
        "def generate_interaction_features(dataset, train):\n",
        "    global interaction_encoders\n",
        "    \n",
        "    if (train): interaction_encoders = []\n",
        "    \n",
        "    interactions = pd.DataFrame(index = dataset.index)\n",
        "    i = 0\n",
        "    for col1, col2 in itertools.combinations(categorical_cols, 2):\n",
        "        new_col_name = '_'.join([col1, col2])\n",
        "        new_values = dataset[col1].map(str) + \"_\" + dataset[col2].map(str)\n",
        "        \n",
        "        if (train):\n",
        "            label_enc = LabelEncoder()\n",
        "            interaction_encoders.append(label_enc)\n",
        "            interactions[new_col_name] = label_enc.fit_transform(new_values)\n",
        "        else:\n",
        "            label_enc = interaction_encoders[i]\n",
        "            interactions[new_col_name] = label_enc.transform(new_values)\n",
        "            i+=1\n",
        "\n",
        "    dataset = dataset.join(interactions) \n",
        "    return dataset"
      ],
      "execution_count": 0,
      "outputs": []
    },
    {
      "cell_type": "markdown",
      "metadata": {
        "id": "GdT93-lBhQKa",
        "colab_type": "text"
      },
      "source": [
        ""
      ]
    },
    {
      "cell_type": "markdown",
      "metadata": {
        "id": "MK5D1o4khCXi",
        "colab_type": "text"
      },
      "source": [
        "#### Preprocessing Function"
      ]
    },
    {
      "cell_type": "code",
      "metadata": {
        "trusted": true,
        "id": "LoRl5efIhCXm",
        "colab_type": "code",
        "colab": {}
      },
      "source": [
        "# Transform Categorical Data\n",
        "def preprocess(data, train = False):\n",
        "    dataset = data.copy()\n",
        "    \n",
        "    dataset = balance_limit_to_num(dataset)\n",
        "    \n",
        "    dataset['Gender'] = dataset.Gender.map(lambda x: 1 if x== 'M' else 0)\n",
        "    dataset['AGE_ENC'] = dataset.AGE.map(func_age_encode)\n",
        "    dataset['EDU_ENC'] = pd.Series(\n",
        "        edu_status_encoder.transform(dataset['EDUCATION_STATUS']),\n",
        "        dataset.index\n",
        "    )\n",
        "    \n",
        "    dataset['MARITAL_ENC'] = pd.Series(\n",
        "        marital_status_encoder.transform(dataset['MARITAL_STATUS']),\n",
        "        dataset.index\n",
        "    )\n",
        "    \n",
        "    generate_pay_due_diff_features(dataset)\n",
        "    df = generate_pay_value_frequency_features(dataset)\n",
        "    dataset = pd.concat([df, dataset], axis = 1)\n",
        "    \n",
        "    dataset = generate_interaction_features(dataset, train)\n",
        "    generate_last_to_other_months_avg_ratio_feature(dataset)\n",
        "    generate_last_to_other_months_ratio_featute(dataset)\n",
        "    dataset.drop(unused_cols, axis= 1, inplace = True)\n",
        "    \n",
        "    cols = dataset.columns\n",
        "    index = dataset.index\n",
        "    if train : scaler.fit(dataset)\n",
        "    dataset =pd.DataFrame(scaler.transform(dataset), columns = cols, index = index)\n",
        "    return dataset"
      ],
      "execution_count": 0,
      "outputs": []
    },
    {
      "cell_type": "code",
      "metadata": {
        "trusted": true,
        "id": "KV8bS_MghCXv",
        "colab_type": "code",
        "colab": {}
      },
      "source": [
        "fit_encoders(X_train)\n",
        "X_train_copy = preprocess(X_train, True)\n",
        "X_val_copy = preprocess(X_val)\n",
        "X_train_copy.head()"
      ],
      "execution_count": 0,
      "outputs": []
    },
    {
      "cell_type": "markdown",
      "metadata": {
        "id": "LjUzWHw9hCX8",
        "colab_type": "text"
      },
      "source": [
        "#### Correlation Matrix"
      ]
    },
    {
      "cell_type": "code",
      "metadata": {
        "trusted": true,
        "id": "O2HYf2rJhCX-",
        "colab_type": "code",
        "colab": {}
      },
      "source": [
        "corr = X_train_copy.assign(target = pd.DataFrame(y_train)['NEXT_MONTH_DEFAULT']).corr()\n",
        "\n",
        "mask = np.triu(np.ones_like(corr, dtype=np.bool))\n",
        "f, ax = plt.subplots(figsize=(22, 18))\n",
        "cmap = sns.diverging_palette(220, 10, as_cmap=True)\n",
        "\n",
        "sns.heatmap(corr, mask=mask, cmap=cmap, vmax=.3, center=0,\n",
        "            square=True, linewidths=.5, cbar_kws={\"shrink\": .5}, annot=True)"
      ],
      "execution_count": 0,
      "outputs": []
    },
    {
      "cell_type": "markdown",
      "metadata": {
        "id": "OSeDIiYdhCYG",
        "colab_type": "text"
      },
      "source": [
        "Features selected using models, chi-squared etc. (The code is in another notebook)"
      ]
    },
    {
      "cell_type": "code",
      "metadata": {
        "trusted": true,
        "id": "eyEPy83uhCYJ",
        "colab_type": "code",
        "colab": {}
      },
      "source": [
        "features  = ['PAY_JULY',\n",
        " 'PAY_2',\n",
        " 'PAID_AMT_JULY',\n",
        " 'PAID_AMT_AUG',\n",
        " 'Balance_Limit_Enc',\n",
        " 'ltomar',\n",
        " 'PAY_7',\n",
        " 'PAY_3',\n",
        " 'PAY_1',\n",
        " 'PAY_0',\n",
        " 'PAID_AMT_SEP',\n",
        " 'PAID_AMT_OCT',\n",
        " 'OCT']"
      ],
      "execution_count": 0,
      "outputs": []
    },
    {
      "cell_type": "markdown",
      "metadata": {
        "id": "VMhL7f8fhCYS",
        "colab_type": "text"
      },
      "source": [
        "#### Evaluation method"
      ]
    },
    {
      "cell_type": "code",
      "metadata": {
        "trusted": true,
        "id": "V9HpMJY6hCYW",
        "colab_type": "code",
        "colab": {}
      },
      "source": [
        "\n",
        "def f1_eval(y_pred, dtrain):\n",
        "    y_true = dtrain.get_label()\n",
        "    err = 1-f1_score(y_true, np.round(y_pred))\n",
        "    return 'f1_err', err"
      ],
      "execution_count": 0,
      "outputs": []
    },
    {
      "cell_type": "code",
      "metadata": {
        "trusted": true,
        "id": "LMJq3olJhCYe",
        "colab_type": "code",
        "colab": {}
      },
      "source": [
        "print_score = lambda score : print('Mean: %f\\t Median: %f' % (score.mean(), median(score)))"
      ],
      "execution_count": 0,
      "outputs": []
    },
    {
      "cell_type": "code",
      "metadata": {
        "trusted": true,
        "id": "iCcd_QkAhCYm",
        "colab_type": "code",
        "colab": {}
      },
      "source": [
        "fit_params = {\n",
        "    'early_stopping_rounds' : 5,\n",
        "    'eval_set': [(X_val_copy[features], y_val)]\n",
        "}"
      ],
      "execution_count": 0,
      "outputs": []
    },
    {
      "cell_type": "markdown",
      "metadata": {
        "id": "iLs5s89chCYt",
        "colab_type": "text"
      },
      "source": [
        "Using cross validation to identify the best classifer for the dataset with new features"
      ]
    },
    {
      "cell_type": "code",
      "metadata": {
        "trusted": true,
        "id": "n26eh98DhCYv",
        "colab_type": "code",
        "colab": {}
      },
      "source": [
        "from xgboost import XGBClassifier\n",
        "\n",
        "xgb = XGBClassifier()\n",
        "\n",
        "scores = cross_val_score(xgb,X_train_copy[features], y_train, cv=5, fit_params=fit_params)\n",
        "print_score(scores)"
      ],
      "execution_count": 0,
      "outputs": []
    },
    {
      "cell_type": "code",
      "metadata": {
        "_kg_hide-input": true,
        "trusted": true,
        "id": "vNOvW0HfhCY3",
        "colab_type": "code",
        "colab": {}
      },
      "source": [
        "from catboost import CatBoostClassifier, Pool\n",
        "\n",
        "cat = CatBoostClassifier()\n",
        "\n",
        "scores = cross_val_score(cat,X_train_copy[features], y_train, cv=5, fit_params=fit_params)\n",
        "print_score(scores)"
      ],
      "execution_count": 0,
      "outputs": []
    },
    {
      "cell_type": "code",
      "metadata": {
        "trusted": true,
        "id": "UQO9hw5nhCY-",
        "colab_type": "code",
        "colab": {}
      },
      "source": [
        "from lightgbm import LGBMClassifier\n",
        "lgb = LGBMClassifier()\n",
        "\n",
        "scores = cross_val_score(lgb,X_train_copy[features], y_train, cv=5, fit_params=fit_params)\n",
        "print_score(scores)\n"
      ],
      "execution_count": 0,
      "outputs": []
    },
    {
      "cell_type": "markdown",
      "metadata": {
        "id": "v8zqqHEwhCZK",
        "colab_type": "text"
      },
      "source": [
        "It is clear that CatBoost is slightly better than other two for the selected features"
      ]
    },
    {
      "cell_type": "markdown",
      "metadata": {
        "id": "7G_0-UMzhCZL",
        "colab_type": "text"
      },
      "source": [
        "### Final Classifier"
      ]
    },
    {
      "cell_type": "code",
      "metadata": {
        "trusted": true,
        "id": "MZ69Q0BehCZO",
        "colab_type": "code",
        "colab": {}
      },
      "source": [
        "model = CatBoostClassifier()\n",
        "\n",
        "X_train, X_val, y_train, y_val =  train_test_split(X, y, test_size=0.02, random_state = 32)\n",
        "\n",
        "fit_encoders(X_train)\n",
        "\n",
        "X_train = preprocess(X_train, True)\n",
        "X_val = preprocess(X_val)\n",
        "X_test = preprocess(credit_card_default_test)\n",
        "\n",
        "model.fit(X_train[features], y_train, early_stopping_rounds=5, eval_set=[(X_val[features], y_val)] )\n",
        "\n",
        "# Here validation report is not useful because the set is small and because we have used it to detect\n",
        "# overfitting\n",
        "print_report(X_train, X_val, y_train, y_val, model)"
      ],
      "execution_count": 0,
      "outputs": []
    },
    {
      "cell_type": "code",
      "metadata": {
        "trusted": true,
        "id": "oHsjVSmqhCZW",
        "colab_type": "code",
        "colab": {}
      },
      "source": [
        "y_pred = model.predict(X_test)\n",
        "\n",
        "df = pd.DataFrame({\n",
        "    'Client_ID' : test_client_ids,\n",
        "    'NEXT_MONTH_DEFAULT': y_pred\n",
        "})"
      ],
      "execution_count": 0,
      "outputs": []
    },
    {
      "cell_type": "code",
      "metadata": {
        "trusted": true,
        "id": "xmml6Yo2hCZe",
        "colab_type": "code",
        "colab": {}
      },
      "source": [
        "df.head()"
      ],
      "execution_count": 0,
      "outputs": []
    },
    {
      "cell_type": "code",
      "metadata": {
        "trusted": true,
        "id": "cIdjHXEmhCZk",
        "colab_type": "code",
        "colab": {}
      },
      "source": [
        "df.to_csv('predictions.csv', index = False)"
      ],
      "execution_count": 0,
      "outputs": []
    }
  ]
}